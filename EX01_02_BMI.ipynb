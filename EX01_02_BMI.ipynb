{
  "nbformat": 4,
  "nbformat_minor": 0,
  "metadata": {
    "colab": {
      "provenance": [],
      "authorship_tag": "ABX9TyMZa3ouLnxwMjJlGBcVgx5W",
      "include_colab_link": true
    },
    "kernelspec": {
      "name": "python3",
      "display_name": "Python 3"
    },
    "language_info": {
      "name": "python"
    }
  },
  "cells": [
    {
      "cell_type": "markdown",
      "metadata": {
        "id": "view-in-github",
        "colab_type": "text"
      },
      "source": [
        "<a href=\"https://colab.research.google.com/github/Tebbyrain/tom113b/blob/main/EX01_02_BMI.ipynb\" target=\"_parent\"><img src=\"https://colab.research.google.com/assets/colab-badge.svg\" alt=\"Open In Colab\"/></a>"
      ]
    },
    {
      "cell_type": "code",
      "execution_count": null,
      "metadata": {
        "id": "fMMS3KE5lVtn"
      },
      "outputs": [],
      "source": [
        "ht = float(input('height(cm)：'))\n",
        "wt = float(input('weight(kg)：'))\n",
        "bmi = wt/ (ht/100)**2\n",
        "print('BMI：',round(bmi, 1 ))"
      ]
    }
  ]
}