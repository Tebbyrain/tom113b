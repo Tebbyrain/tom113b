{
  "nbformat": 4,
  "nbformat_minor": 0,
  "metadata": {
    "colab": {
      "provenance": [],
      "authorship_tag": "ABX9TyN4PWC8oXRCnjX49PJ+JVIM",
      "include_colab_link": true
    },
    "kernelspec": {
      "name": "python3",
      "display_name": "Python 3"
    },
    "language_info": {
      "name": "python"
    }
  },
  "cells": [
    {
      "cell_type": "markdown",
      "metadata": {
        "id": "view-in-github",
        "colab_type": "text"
      },
      "source": [
        "<a href=\"https://colab.research.google.com/github/Tebbyrain/tom113b/blob/main/EX01_05_Caesar_Cipher_Encode_and_decode.ipynb\" target=\"_parent\"><img src=\"https://colab.research.google.com/assets/colab-badge.svg\" alt=\"Open In Colab\"/></a>"
      ]
    },
    {
      "cell_type": "code",
      "execution_count": 8,
      "metadata": {
        "colab": {
          "base_uri": "https://localhost:8080/"
        },
        "id": "1ZMe_qJADz0G",
        "outputId": "ce44302a-3ca6-46b9-e674-f4b1f53f7c0a"
      },
      "outputs": [
        {
          "output_type": "stream",
          "name": "stdout",
          "text": [
            "e8\n",
            "you had me at hello.\n",
            "w}(pil(um(i|(pmttw6\n"
          ]
        }
      ],
      "source": [
        "act = input()\n",
        "txt = input()\n",
        "\n",
        "act_type = act[0]\n",
        "key = int(act[1:])\n",
        "ntxt = ''\n",
        "\n",
        "if act_type == 'd':\n",
        "    for c in txt:\n",
        "        nc = ord(c) - key\n",
        "        ntxt = ntxt + chr(nc)\n",
        "else:\n",
        "    for c in txt:\n",
        "        nc = ord(c) + key\n",
        "        ntxt = ntxt + chr(nc)\n",
        "\n",
        "print(ntxt)\n"
      ]
    }
  ]
}