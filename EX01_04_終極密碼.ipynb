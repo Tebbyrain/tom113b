{
  "nbformat": 4,
  "nbformat_minor": 0,
  "metadata": {
    "colab": {
      "provenance": [],
      "authorship_tag": "ABX9TyMnVliKS7wiMjnew5rn7uBg",
      "include_colab_link": true
    },
    "kernelspec": {
      "name": "python3",
      "display_name": "Python 3"
    },
    "language_info": {
      "name": "python"
    }
  },
  "cells": [
    {
      "cell_type": "markdown",
      "metadata": {
        "id": "view-in-github",
        "colab_type": "text"
      },
      "source": [
        "<a href=\"https://colab.research.google.com/github/Tebbyrain/tom113b/blob/main/EX01_04_%E7%B5%82%E6%A5%B5%E5%AF%86%E7%A2%BC.ipynb\" target=\"_parent\"><img src=\"https://colab.research.google.com/assets/colab-badge.svg\" alt=\"Open In Colab\"/></a>"
      ]
    },
    {
      "cell_type": "code",
      "execution_count": null,
      "metadata": {
        "colab": {
          "base_uri": "https://localhost:8080/"
        },
        "id": "j4-VU2Bj2qZJ",
        "outputId": "958feab2-ea49-4598-a42f-5dc99cd73a78"
      },
      "outputs": [
        {
          "output_type": "stream",
          "name": "stdout",
          "text": [
            "0 - 100\n",
            "guess:50\n",
            "0 - 50\n",
            "guess:20\n",
            "20 - 50\n",
            "guess:1000\n",
            "超過範圍\n",
            "20 - 50\n"
          ]
        }
      ],
      "source": [
        "import random\n",
        "boom = random.randint(1,99)\n",
        "\n",
        "lf=0\n",
        "rt=100\n",
        "\n",
        "while True:\n",
        "  print(lf,'-',rt)\n",
        "  gu=int(input('guess:'))\n",
        "\n",
        "  if gu<=lf or gu>=rt:\n",
        "    print('超過範圍')\n",
        "    continue\n",
        "  elif gu<boom:\n",
        "    lf=gu\n",
        "  elif gu>boom:\n",
        "    rt=gu\n",
        "  else:\n",
        "    print('猜中')\n",
        "    break"
      ]
    }
  ]
}