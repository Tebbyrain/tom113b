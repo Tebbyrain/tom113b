{
  "nbformat": 4,
  "nbformat_minor": 0,
  "metadata": {
    "colab": {
      "provenance": [],
      "authorship_tag": "ABX9TyM3ZQCBI1n6dtCCzTp+iPiI",
      "include_colab_link": true
    },
    "kernelspec": {
      "name": "python3",
      "display_name": "Python 3"
    },
    "language_info": {
      "name": "python"
    }
  },
  "cells": [
    {
      "cell_type": "markdown",
      "metadata": {
        "id": "view-in-github",
        "colab_type": "text"
      },
      "source": [
        "<a href=\"https://colab.research.google.com/github/Tebbyrain/tom113b/blob/main/EX01_04_%E7%B5%82%E6%A5%B5%E5%AF%86%E7%A2%BC.ipynb\" target=\"_parent\"><img src=\"https://colab.research.google.com/assets/colab-badge.svg\" alt=\"Open In Colab\"/></a>"
      ]
    },
    {
      "cell_type": "code",
      "execution_count": null,
      "metadata": {
        "colab": {
          "base_uri": "https://localhost:8080/"
        },
        "id": "1xe-aLAUxZLv",
        "outputId": "f2466544-c107-42c5-fbf9-6aca0ac95ed1"
      },
      "outputs": [
        {
          "output_type": "stream",
          "name": "stdout",
          "text": [
            "0 - 100\n"
          ]
        }
      ],
      "source": [
        "import random\n",
        "boom = random.randint(1,99)\n",
        "\n",
        "lf=0\n",
        "rt=100\n",
        "\n",
        "while True:\n",
        "  print(lf,'-',rt)\n",
        "  gu=int(input('guess:'))\n",
        "\n",
        "  if gu<=lf or gu>=rt:\n",
        "    print('超過範圍')\n",
        "    continue\n",
        "  elif gu<boom:\n",
        "    lf=gu\n",
        "  elif gu>boom:\n",
        "    rt=gu\n",
        "  else:\n",
        "    print('猜中')\n",
        "    break"
      ]
    }
  ]
}